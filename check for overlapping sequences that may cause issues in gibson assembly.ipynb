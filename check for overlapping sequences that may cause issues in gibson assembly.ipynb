{
 "cells": [
  {
   "cell_type": "markdown",
   "metadata": {},
   "source": [
    "# Overlapping Subsequence Finder\n",
    "\n",
    "This notebook helps identify overlapping subsequences in a DNA sequence, which can be useful to check for potential issues in Gibson assembly.\n",
    "\n",
    "You can paste your DNA sequence and choose the length of subsequences you want to analyze. The notebook will return any subsequences that appear more than once along with their counts.\n",
    "\n",
    "For questions, feedback, etc. ask Alexa from the Sherbo Lab(lexavanv on GitHub)"
   ]
  },
  {
   "cell_type": "markdown",
   "metadata": {},
   "source": [
    "## Instructions\n",
    "\n",
    "1. Paste your DNA sequence into the `sequence` variable in the next code cell.  \n",
    "2. Set the `length` variable to the size of overlap you want to check (recommended: 8–15).  \n",
    "3. Run the code cell.  \n",
    "4. The output will list overlapping subsequences and the number of times each occurs.  \n",
    "5. You can copy the results into Benchling or another tool to check for potential issues in Gibson assembly."
   ]
  },
  {
   "cell_type": "code",
   "execution_count": null,
   "metadata": {},
   "outputs": [
    {
     "name": "stdout",
     "output_type": "stream",
     "text": [
      "sequence cccccccccccctgcaggtccgacacggggatggatggcgttcccgatcatggtcctgcttgcttcgggagcgatactgagcgaagcaagtgcgtcgagcagtgcccgcttgttcctgaaatgccagtaaagcgctggctgctgaacccccagccggaactgaccccaca instances 2\n",
      "sequence ccccccccccctgcaggtccgacacggggatggatggcgttcccgatcatggtcctgcttgcttcgggagcgatactgagcgaagcaagtgcgtcgagcagtgcccgcttgttcctgaaatgccagtaaagcgctggctgctgaacccccagccggaactgaccccacaa instances 2\n",
      "sequence cccccccccctgcaggtccgacacggggatggatggcgttcccgatcatggtcctgcttgcttcgggagcgatactgagcgaagcaagtgcgtcgagcagtgcccgcttgttcctgaaatgccagtaaagcgctggctgctgaacccccagccggaactgaccccacaag instances 2\n",
      "sequence ccccccccctgcaggtccgacacggggatggatggcgttcccgatcatggtcctgcttgcttcgggagcgatactgagcgaagcaagtgcgtcgagcagtgcccgcttgttcctgaaatgccagtaaagcgctggctgctgaacccccagccggaactgaccccacaagg instances 2\n",
      "sequence cccccccctgcaggtccgacacggggatggatggcgttcccgatcatggtcctgcttgcttcgggagcgatactgagcgaagcaagtgcgtcgagcagtgcccgcttgttcctgaaatgccagtaaagcgctggctgctgaacccccagccggaactgaccccacaaggc instances 2\n",
      "sequence ccccccctgcaggtccgacacggggatggatggcgttcccgatcatggtcctgcttgcttcgggagcgatactgagcgaagcaagtgcgtcgagcagtgcccgcttgttcctgaaatgccagtaaagcgctggctgctgaacccccagccggaactgaccccacaaggcc instances 2\n"
     ]
    }
   ],
   "source": [
    "from collections import defaultdict\n",
    "\n",
    "def find_overlapping_subsequences(sequence, length):\n",
    "    # create a dictionary to store sequences, defaultdict provides automatic value of 0 for a non exsistent key\n",
    "    subseq_count = defaultdict(int)\n",
    "    \n",
    "    # iterate over sequence, stops when the final subsequences is the given length\n",
    "    for i in range(len(sequence) - length + 1):\n",
    "        #creates subsequences of the given length. i is start, i + length is end. \n",
    "        subseq = sequence[i:i + length]\n",
    "        #add a count of 1 to the dictionary every time a subsequence appears. (ie a subsequence that only appears once will recieve a count of one, a subsequence that appears twice will receive a count of two, etc.)\n",
    "        subseq_count[subseq] += 1\n",
    "        # if the count of a subsequence is greater than 1\n",
    "        if subseq_count[subseq] > 1:\n",
    "            print('sequence', subseq, 'instances', subseq_count[subseq])\n",
    "\n",
    "sequence = \"cccttgtattactgtttatgtaagcagacagttttattgttcatgatgatatatttttatcttgtgcaatgtaacatcagagattttgagacacaacgtggctttcccccccccccctgcaggtccgacacggggatggatggcgttcccgatcatggtcctgcttgcttcgggagcgatactgagcgaagcaagtgcgtcgagcagtgcccgcttgttcctgaaatgccagtaaagcgctggctgctgaacccccagccggaactgaccccacaaggccctagcgtttgcaatgcaccaggtcatcattgacccaggcgtgttccaccaggccgctgcctcgcaactcttcgcaggcttcgccgacctgctcgcgccacttcttcacgcgggtggaatccgatccgcacatgaggcggaaggtttccagcttgagcgggtacggctcccggtgcgagctgaaatagtcgaacatccgtcgggccgtcggcgacagcttgcggtacttctcccatatgaatttcgtgtagtggtcgccagcaaacagcacgacgatttcctcgtcgatcaggacctggcaacgggacgttttcttgccacggtccaggacgcggaagcggtgcagcagcgacaccgattccaggtgcccaacgcggtcggacgtgaagcccatcgccgtcgcctgtaggcgcgacaggcattcctcggccttcgtgtaataccggccattgatcgaccagcccaggtcctggcaaagctcgtagaacgtgaaggtgatcggctcgccgataggggtgcgcttcgcgtactccaacacctgctgccacaccagttcgtcatcgtcggcccgcagctcgacgccggtgtaggtgatcttcacgtccttgttgacgtggaaaatgaccttgttttgcagcgcctcgcgcgggattttcttgttgcgcgtggtgaacagggcagagcgggccgtgtcgtttggcatcgctcgcatcgtgtccggccacggcgcaatatcgaacaaggaaagctgcatttccttgatctgctgcttcgtgtgtttcagcaacgcggcctgcttggcctcgctgacctgttttgccaggtcctcgccggcggtttttcgcttcttggtcgtcatagttcctcgcgtgtcgatggtcatcgacttcgccaaacctgccgcctcctgttcgagacgacgcgaacgctccacggcggccgatggcgcgggcagggcagggggagccagttgcacgctgtcgcgctcgatcttggccgtagcttgctggaccatcgagccgacggactggaaggtttcgcggggcgcacgcatgacggtgcggcttgcgatggtttcggcatcctcggcggaaaaccccgcgtcgatcagttcttgcctgtatgccttccggtcaaacgtccgattcattcaccctccttgcgggattgccccgactcacgccggggcaatgtgcccttattcctgatttgacccgcctggtgccttggtgtccagataatccaccttatcggcaatgaagtcggtcccgtagaccgtctggccgtccttctcgtacttggtattccgaatcttgccctgcacgaataccagctccgcgaagtcgctcttcttgatggagcgcatggggacgtgcttggcaatcacgcgcaccccccggccgttttagcggctaaaaaagctggcgctgggcctgtttctggcgctggacttcccgctgttccgtcagcagcttttcgcccacggccttgatgatcgcggcggccttggcctgcatatcccgattcaacggccccagggcgtccagaacgggcttcaggcgctcccgaaggtctcgggccgtctcttgggcttgatcggccttcttgcgcatctcacgcgctcctgcggcggcctgtagggcaggctcatacccctgccgaaccgcttttgtcagccggtcggccacggcttccggcgtctcaacgcgctttgagattcccagcttttcggccaatccctgcggtgcataggcgcgtggctcgaccgcttgcgggctgatggtgacgtggcccactggtggccgctccagggcctcgtagaacgcctgaatgcgcgtgtgacgtgccttgctgccctcgatgccccgttgcagccctagatcggccacagcggccgcaaacgtggtctggtcgcgggtcatctgcgctttgttgccgatgaactccttggccgacagcctgccgtcctgcgtcagcggcaccacgaacgcggtcatgtgcgggctggtttcgtcacggtggatgctggccgtcacgatgcgatccgccccgtacttgtccgccagccacttgtgcgccttctcgaagaacgccgcctgctgttcttggctggccgacttccaccattccgggctggccgtcatgacgtactcgaccgccaacacagcgtccttgcgccgcttctctggcagcaactcgcgcagtcggcccatcgcttcatcggtgctgctggccgcccagtgctcgttctctggcgtcctgctggcgtcagcgttgggcgtctcgcgctcgcggtaggcgtgcttgagactggccgccacgttgcccattttcgccagcttcttgcatcgcatgatcgcgtatgccgccatgcctgcccctcccttttggtgtccaaccggctcgacgggggcagcgcaaggcggtgcctccggcgggccactcaatgcttgagtatactcactagactttgcttcgcaaagtcgtgaccgcctacggcggctgcggcgccctacgggcttgctctccgggcttcgccctgcgcggtcgctgcgctcccttgccagcccgtggatatgtggacgatggccgcgagcggccaccggctggctcgcttcgctcggcccgtggacaaccctgctggacaagctgatggacaggctgcgcctgcccacgagcttgaccacagggattgcccaccggctacccagccttcgaccacatacccaccggctccaactgcgcggcctgcggccttgccccatcaatttttttaattttctctggggaaaagcctccggcctgcggcctgcgcgcttcgcttgccggttggacaccaagtggaaggcgggtcaaggctcgcgcagcgaccgcgcagcggcttggccttgacgcgcctggaacgacccaagcctatgcgagtgggggcagtcgaaggcgaagcccgcccgcctgccccccgagcctcacggcggcgagtgcgggggttccaagggggcagcgccaccttgggcaaggccgaaggccgcgcagtcgatcaacaagccccggaggggccactttttgccggagggggagccgcgccgaaggcgtgggggaaccccgcaggggtgcccttctttgggcaccaaagaactagatatagggcgaaatgcgaaagacttaaaaatcaacaacttaaaaaaggggggtacgcaacagctcattgcggcaccccccgcaatagctcattgcgtaggttaaagaaaatctgtaattgactgccacttttacgcaacgcataattgttgtcgcgctgccgaaaagttgcagctgattgcgcatggtgccgcaaccgtgcggcaccctaccgcatggagataagcatggccacgcagtccagagaaatcggcattcaagccaagaacaagcccggtcactgggtgcaaacggaacgcaaagcgcatgaggcgtgggccgggcttattgcgaggaaacccacggcggcaatgctgctgcatcacctcgtggcgcagatgggccaccagaacgccgtggtggtcagccagaagacactttccaagctcatcggacgttctttgcggacggtccaatacgcagtcaaggacttggtggccgagcgctggatctccgtcgtgaagctcaacggccccggcaccgtgtcggcctacgtggtcaatgaccgcgtggcgtggggccagccccgcgaccagttgcgcctgtcggtgttcagtgccgccgtggtggttgatcacgacgaccaggacgaatcgctgttggggcatggcgacctgcgccgcatcccgaccctgtatccgggcgagcagcaactaccgaccggccccggcgaggagccgcccagccagcccggcattccgggcatggaaccagacctgccagccttgaccgaaacggaggaatgggaacggcgcgggcagcagcgcctgccgatgcccgatgagccgtgttttctggacgatggcgagccgttggagccgccgacacgggtcacgctgccgcgccggtagcacttgggttgcgcaaacgccagcaacgcggcctttttacggttcctggccttttgctggccttttgctcacatgttctttcctgcgttatcccctgattctgtggataaccgtattaccgcctttgagtgagctgataccgctcgccgcagccgaacgaccgagcgcagcgagtcagtgagcgaggaagcggaagagcgcccaatacgcaaaccgcctctccccgcgcgttggccgattcattaatgcagctggcacgacaggtttcccgactggaaagcgggcagtgagcgcaacgcaattaggtgttgacggctagctcagtcctaggtatagtgctagctctagacttcgggcgcaggcccacatggagagcgcagatagtccgggatatccgctgttttagagctagaaatagcaagttaaaataaggctagtccgttatcaacttgaaaaagtggcaccgagtcggtgctttttttgcatcaaataaaacgaaaggctcagtcgaaagactgggcctttcgttttatctgttgtttgtcggtgaacgctctctactagagtcacactggctcaccttcgggtgggcctttctgcgtttatattaagccagccccgacacccgccaacacccgctgacgcgccctgacgggcttgtctgctcccggcatccgcttacagacaagctgtgaccgtctccgggagctgcatgtgtcagaggtcatggcgctgatgacgccggtcatcctcatcggcggcatgacgctcggctggttcacgcccaccgaggcggcggtggcggcggtgatctggtcgctgttcctggggctggtgcgctaccgctccatgacattgaagacgctggcgaaagcgaccttcgacaccatcgagacgacggcctcggtgctgttcatcgtcaccgcggcgtccatcttcgcgtggctgctcacggcgagccaggcggcgcagatgctgtcggacgccatccttggcttcacccagaacaagtgggtgttcctggcgctggccaatctgctcatcctgttcgtgggctgcttcatcgacaccatcgcggccatcacgatcctggtgccgatcctgctgcccatcgtgctcaagctcggcatcgacccgatccatttcgggctcatcatgacgctgaacctgatgatcgggctgctgcacccgccgctgggcatggtgctgttcgtgctggcgcgggtggcgcggctctcggtggaacgcaccaccatggccatcctgccctggctggtgccgttgatgatcgcgctgctcgcgatcacctacattcccggcctcaccctctggctgccccacgccatggggctcggacgctgagggcgatcaggcgcccgtccgtccctcgggggcggacggggcgatgacgcggcggccttcctcggccttgtaatagtactggctcgccaccagccagcccttcaacggccgcaggggcgggatgcaggtgagcagcaagaggggcagcgtggtcacgaggtggacccagtagggcgcctggaaggccacctccagccagatggcgaacagaaccgccggcacgcaggcgaagcacatgacgaagaaggccggcccatccgccggatcggcgaaggaatagtcgagcccgcagacctcgcaggccggggcaatcgtcaggaagccattgaaaaggtggccctcgccgcagcgggggcaacggcctctcacgcccgtcgaaaggggcgagagcctcggccaatgttgttcgttcatgtcttctcccgggccggtgcgggcgtctgcccatccggcgtcacgcgggtctggcgattgttcgccggcgcagtgtgctcccgtgaggtaagtctcggccgggctacccgcaagtgagaccgagtcgcagcggcaccaggccgcatccatcctgacgcagggggtgacacgcggccggccgccctttattcggctttcaggaggcgcaagccagccccgacacccgccaacacccgctgacgcgccctgacgggcttgtctgctcccggcatccgcttacagacaagctgtgaccgtctccgggagctgcatgtgtcagaggttaggtggcggtacttgggtcgatatcaaagtgcatcacttcttcccgtatgcccaactttgtatagagagccactgcgggatcgtcaccgtaatctgcttgcacgtagatcacataagcaccaagcgcgttggcctcatgcttgaggagattgatgagcgcggtggcaatgccctgcctccggtgctcgccggagactgcgagatcatagatatagatctcactacgcggctgctcaaacttgggcagaacgtaagccgcgagagcgccaacaaccgcttcttggtcgaaggcagcaagcgcgatgaatgtcttactacggagcaagttcccgaggtaatcggagtccggctgatgttgggagtaggtggctacgtctccgaactcacgaccgaaaagatcaagagcagcccgcatggatttgacttggtcagggccgagcctacatgtgcgaatgatgcccatacttgagccacctaactttgttttagggcgactgccctgctgcgtaacatcgttgctgctgcgtaacataacaccccttgtattactgtttatttaagcagacagttttattgttcatgatgatatatttttatcttgtgcaatgtaacatcagagattttgagacacaacgtggctttccccccccccccctgcaggtccgacacggggatggatggcgttcccgatcatggtcctgcttgcttcgggagcgatactgagcgaagcaagtgcgtcgagcagtgcccgcttgttcctgaaatgccagtaaagcgctggctgctgaacccccagccggaactgaccccacaaggccatcctcgagcgcttttaccgcttgcccgaggacctgatccaacgcttctacggggatcgcctcacgttcaaggacaaggcacgcatccttacgggtcgtccgcccgtatcggtgctgaaggccctttcctgcctccccgagacgaaatccgctatcggtcccagataatgctcgacgtcaccaagtctccccgccgcgccgccgtcatcgggtccggattcggcgggctctccctcgccatccgcctgcaggcggccggcatcgccaccaccatcttcgagcagcgggacaagcccggcggccgggcctatgtctatgaggataagggcttcaccttcgatggcgggccgaccgtcatcaccgacccctcctgcctcgaagaggtctatgaggcggccgggcggcggctcagcgactatgtggacctgatctcggtctcgcccttctaccggctgctgtggtcggacggtcggcagttcgactatgtgaacgagcagaccgcgctcgacgcccagatcgccgccttcaacccggcggatgtggaaggctaccggcgcttcttcgcctattccaaggcggtgttcgaggagggttacctcaagctcggcgccgtgccgttcctgaatttctcggacatgatgaaggccgggccgcagttggccaagctccaggcgtggcgctcggtctattccatggtgtcgagcttcataaaggacgagcacctgcggcaggcgttctccttccactcgctgctggtgggggggaatcccttctcaacctcctccatctacgccctcatccatgcgctggagcgcaaatggggcgtgttcttcccccgcggcggcaccggcgcgctggtgcgcggcatggtgaagctgttcaccgacctcggcggtaccatccacctctccgccaaggtcgatgagataacac\"\n",
    "length = 170  # Length of the subsequences to check\n",
    "find_overlapping_subsequences(sequence, length)\n",
    "\n"
   ]
  }
 ],
 "metadata": {
  "kernelspec": {
   "display_name": "base",
   "language": "python",
   "name": "python3"
  },
  "language_info": {
   "codemirror_mode": {
    "name": "ipython",
    "version": 3
   },
   "file_extension": ".py",
   "mimetype": "text/x-python",
   "name": "python",
   "nbconvert_exporter": "python",
   "pygments_lexer": "ipython3",
   "version": "3.11.5"
  }
 },
 "nbformat": 4,
 "nbformat_minor": 2
}
